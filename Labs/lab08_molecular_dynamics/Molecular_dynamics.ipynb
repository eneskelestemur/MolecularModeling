{
 "cells": [
  {
   "cell_type": "markdown",
   "metadata": {},
   "source": [
    "[![Open In Colab](https://colab.research.google.com/assets/colab-badge.svg)](https://colab.research.google.com/github/eneskelestemur/MolecularModeling/blob/main/Labs/lab08_molecular_dynamics/Molecular_dynamics.ipynb)"
   ]
  },
  {
   "cell_type": "markdown",
   "metadata": {},
   "source": [
    "In this exercise, we'll use `openmm` and `mdanalysis` packages. Their recommended way of installation is through Ancaonda/Miniconda, so before starting this notebook prepare the environment using Anaconda. "
   ]
  },
  {
   "cell_type": "markdown",
   "metadata": {},
   "source": [
    "# Molecular Dynamics Using Openmm\n",
    "\n",
    "In this lab, we will demonstrate Molecular Dynamics Simulation and its analysis in Python.\n",
    "\n",
    "* [Estrogen-Raloxifene Example](#estrogen-raloxifene-example)\n",
    "* [Ras-Raf Example](#ras-raf-example)"
   ]
  },
  {
   "cell_type": "code",
   "execution_count": null,
   "metadata": {},
   "outputs": [],
   "source": []
  }
 ],
 "metadata": {
  "kernelspec": {
   "display_name": "MolecularModeling",
   "language": "python",
   "name": "python3"
  },
  "language_info": {
   "name": "python",
   "version": "3.12.4"
  }
 },
 "nbformat": 4,
 "nbformat_minor": 2
}
